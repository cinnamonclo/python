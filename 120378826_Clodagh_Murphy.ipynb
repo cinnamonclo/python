{
  "nbformat": 4,
  "nbformat_minor": 0,
  "metadata": {
    "colab": {
      "name": "120378826_Clodagh_Murphy.ipynb",
      "provenance": [],
      "collapsed_sections": [],
      "authorship_tag": "ABX9TyN7MHQSln8sKiW/yCXEy2JD",
      "include_colab_link": true
    },
    "kernelspec": {
      "name": "python3",
      "display_name": "Python 3"
    },
    "language_info": {
      "name": "python"
    }
  },
  "cells": [
    {
      "cell_type": "markdown",
      "metadata": {
        "id": "view-in-github",
        "colab_type": "text"
      },
      "source": [
        "<a href=\"https://colab.research.google.com/github/cinnamonclo/python/blob/main/120378826_Clodagh_Murphy.ipynb\" target=\"_parent\"><img src=\"https://colab.research.google.com/assets/colab-badge.svg\" alt=\"Open In Colab\"/></a>"
      ]
    },
    {
      "cell_type": "markdown",
      "source": [
        "# Declaration\n",
        "\n",
        "By submitting this assignment. I agree to the following:\n",
        "\n",
        "“I have read and understand the UCC academic policy on plagiarism and I agree to the requirements set out thereby in relation to plagiarism and referencing. I confirm that I have referenced and acknowledged properly all sources used in preparation of this\n",
        "assignment.\n",
        "I declare that this assignment is entirely my own work based on my personal study. I\n",
        "further declare that I have not engaged the services of another to either assist me in, or\n",
        "complete this assignment”"
      ],
      "metadata": {
        "id": "Uis4CAa95q_G"
      }
    },
    {
      "cell_type": "markdown",
      "source": [
        "# Part 1 - Dataset Load\n",
        "**Clodagh Murphy 120378826**\n",
        "\n",
        "I am using the Suicide Rates Overview 1985 to 2016 data set which I found on Kaggle: https://www.kaggle.com/russellyates88/suicide-rates-overview-1985-to-2016?select=master.csv\n",
        "\n",
        "The data within this data set is collected from a variety of sources such as the WHO and United Nations Development Program, and explores a variety of different socio-economic topics in relation to suicide rates."
      ],
      "metadata": {
        "id": "4cXMeScwm8EL"
      }
    },
    {
      "cell_type": "code",
      "execution_count": 1,
      "metadata": {
        "colab": {
          "base_uri": "https://localhost:8080/"
        },
        "id": "czRCUKZ3m07x",
        "outputId": "eca9b256-2efd-41cc-8ece-02a49be184c0"
      },
      "outputs": [
        {
          "output_type": "execute_result",
          "data": {
            "text/plain": [
              "country                object\n",
              "year                    int64\n",
              "sex                    object\n",
              "age                    object\n",
              "suicides_no             int64\n",
              "population              int64\n",
              "suicides/100k pop     float64\n",
              "country-year           object\n",
              "HDI for year          float64\n",
              " gdp_for_year ($)      object\n",
              "gdp_per_capita ($)      int64\n",
              "generation             object\n",
              "dtype: object"
            ]
          },
          "metadata": {},
          "execution_count": 1
        }
      ],
      "source": [
        "import pandas as pd\n",
        "df = pd.read_csv(\"https://github.com/cinnamonclo/python/blob/103cc01d9d815091dbf21c0d2235a82b9016942a/master.csv?raw=true\")\n",
        "df.dtypes"
      ]
    },
    {
      "cell_type": "markdown",
      "source": [
        "I decided to chose this data set as it is based on topic that I am very interested in. I also felt as though I could derive some interesting results from the information within the data set."
      ],
      "metadata": {
        "id": "EqBc0QJ1nAJz"
      }
    },
    {
      "cell_type": "markdown",
      "source": [
        "# Part 2 - Data Analysis Task"
      ],
      "metadata": {
        "id": "wiynIthFnBrg"
      }
    },
    {
      "cell_type": "markdown",
      "source": [
        "I wanted to investigate the average number of suicides from the data set while also comparing the averages based on gender and generation.  "
      ],
      "metadata": {
        "id": "HgXO6JPynCYv"
      }
    },
    {
      "cell_type": "code",
      "source": [
        "df.groupby(['sex','generation'])['suicides_no'].mean()"
      ],
      "metadata": {
        "colab": {
          "base_uri": "https://localhost:8080/"
        },
        "id": "hJlXTcoWnFnf",
        "outputId": "a278eae0-87e7-4a96-e06e-21238e4940ce"
      },
      "execution_count": 5,
      "outputs": [
        {
          "output_type": "execute_result",
          "data": {
            "text/plain": [
              "sex     generation     \n",
              "female  Boomers            184.756713\n",
              "        G.I. Generation    128.755831\n",
              "        Generation X        96.703808\n",
              "        Generation Z         8.355102\n",
              "        Millenials          45.728953\n",
              "        Silent             148.425204\n",
              "male    Boomers            730.873747\n",
              "        G.I. Generation    242.970845\n",
              "        Generation X       381.699438\n",
              "        Generation Z        13.285714\n",
              "        Millenials         167.638261\n",
              "        Silent             411.519485\n",
              "Name: suicides_no, dtype: float64"
            ]
          },
          "metadata": {},
          "execution_count": 5
        }
      ]
    },
    {
      "cell_type": "markdown",
      "source": [
        "It is clearly evident that the overall male suicide averages are significantly higher compared to the female averages displayed from every generation. This may be possibly due to the fact that male suicide methods tend to be more violent than those of females. \n",
        " \n",
        "It is also quite interesting that for both genders, the generation with the highest suicide rates tends to be boomers. The average male boomer suicides figure was 546.117034 higher than the average female suicide figure. The boomer generation was born during the post World War II baby boom, a possible reason for such high suicide rates may be due to various economic recessions that those in that generation have faced. \n",
        " \n",
        "The second highest suicide average is also the same for both genders, the silent generation. The average male silent generation suicides figure was 263.094281 higher than the average female silent generation suicide figure. Those born in the silent generation were born during the beginning of the great depression to the end of World War II. There are many plausible reasons as to why suicide rates in this generation are the second-highest overall, with many people losing their lives in the war or people losing loved ones. \n",
        "\n",
        "Unfortunately, I was unable to sort the data from highest to lowest as the female and male values would not stay seperated. "
      ],
      "metadata": {
        "id": "HhuNc-lonJJm"
      }
    },
    {
      "cell_type": "markdown",
      "source": [
        "# Part 3 - Data Visualization Task\n"
      ],
      "metadata": {
        "id": "yXsZJgmrnLIC"
      }
    },
    {
      "cell_type": "markdown",
      "source": [
        "## Plot 1"
      ],
      "metadata": {
        "id": "v-DI20BK598W"
      }
    },
    {
      "cell_type": "markdown",
      "source": [
        "In this plot I want to investigate the countries where the highest average silent generation suicides have occured. I decided to investigate this topic after completing the data analysis task as I felt that I could discover some information that could aid my arguement."
      ],
      "metadata": {
        "id": "3pJn9sNg6BEw"
      }
    },
    {
      "cell_type": "code",
      "source": [
        "gender = df[df['generation']=='Silent']\n",
        "findings = gender.groupby('country')['suicides_no'].mean().sort_values(ascending = False).head(10)\n",
        "findings.plot.bar(title='Top 10 Countries with the Highest Average Silent Suicides', xlabel='Countries', rot=90, ylabel='Average Amount of Suicides', color=['#003f5c','#2f4b7c','#665191','#a05195','#d45087','#f95d6a','#ff7c43','#ffa600','#ffc70f','#ffff5c'])"
      ],
      "metadata": {
        "colab": {
          "base_uri": "https://localhost:8080/",
          "height": 397
        },
        "id": "DaFrkWL_lEbj",
        "outputId": "8e7ce263-06f6-426d-d16a-71156f822204"
      },
      "execution_count": 8,
      "outputs": [
        {
          "output_type": "execute_result",
          "data": {
            "text/plain": [
              "<matplotlib.axes._subplots.AxesSubplot at 0x7fb6c4bf2b90>"
            ]
          },
          "metadata": {},
          "execution_count": 8
        },
        {
          "output_type": "display_data",
          "data": {
            "image/png": "[encoded data removed]",
            "text/plain": [
              "<Figure size 432x288 with 1 Axes>"
            ]
          },
          "metadata": {
            "needs_background": "light"
          }
        }
      ]
    },
    {
      "cell_type": "markdown",
      "source": [
        "The reason why I chose to use a bar chart to display my findings is so that there is a clear comparison of the amount of suicides per country. From this chart we can cleary see which country has the highest and how it compares against others.\n",
        "\n",
        "As I mentioned above, those who were born during the silent generation were born during the begginning of the great depression to the end of World War II. As we can see from the bar chart above, a lot of the countries with the highest suicide averages tend to be from countries whom were involved in World War II. With the Russian Federation having the highest average suicides among the silent generation followed by Japan. I was quite surprised to see Brazil among the top 10, as I assumed that the top 10 would comprise mostly of European Countries along with the other Non-EU countries that were active in the war.\n",
        "\n"
      ],
      "metadata": {
        "id": "LB4n9HmeyfPp"
      }
    },
    {
      "cell_type": "markdown",
      "source": [
        "## Plot 2"
      ],
      "metadata": {
        "id": "pESgIXKe567e"
      }
    },
    {
      "cell_type": "markdown",
      "source": [
        "In this plot, I want to investiagte which countries had the highest amount of suicides in 2015. I chose this specifically as I think that we may find some interesting results in terms of what countries will appear in the top 5."
      ],
      "metadata": {
        "id": "mXKmoxLSnMDX"
      }
    },
    {
      "cell_type": "markdown",
      "source": [
        "I wanted to investigate the latest year in the datasets statistics, but unfortunately this was not possible due to the lack of information available from the 2016 data provided as shown below:"
      ],
      "metadata": {
        "id": "jt5zNh1xoD_z"
      }
    },
    {
      "cell_type": "code",
      "source": [
        "# 2016 country list\n",
        "year_16= df[df['year'] == 2016]\n",
        "year_16['country'].unique()"
      ],
      "metadata": {
        "colab": {
          "base_uri": "https://localhost:8080/"
        },
        "id": "MyMkivFVot_Q",
        "outputId": "f1e7fa70-9dcd-4e13-e2c9-d993a79d6509"
      },
      "execution_count": null,
      "outputs": [
        {
          "output_type": "execute_result",
          "data": {
            "text/plain": [
              "array(['Armenia', 'Austria', 'Croatia', 'Cyprus', 'Czech Republic',\n",
              "       'Grenada', 'Hungary', 'Iceland', 'Lithuania', 'Mauritius',\n",
              "       'Mongolia', 'Netherlands', 'Qatar', 'Romania', 'Sweden',\n",
              "       'Thailand'], dtype=object)"
            ]
          },
          "metadata": {},
          "execution_count": 6
        }
      ]
    },
    {
      "cell_type": "code",
      "source": [
        "# 2015 country list\n",
        "year_15= df[df['year'] == 2015]\n",
        "year_15['country'].unique()"
      ],
      "metadata": {
        "colab": {
          "base_uri": "https://localhost:8080/"
        },
        "id": "T69-z29uohhw",
        "outputId": "b111310a-9450-46d4-acd2-0bbd5cd79f67"
      },
      "execution_count": null,
      "outputs": [
        {
          "output_type": "execute_result",
          "data": {
            "text/plain": [
              "array(['Antigua and Barbuda', 'Argentina', 'Armenia', 'Australia',\n",
              "       'Austria', 'Belgium', 'Belize', 'Brazil', 'Chile', 'Colombia',\n",
              "       'Croatia', 'Cuba', 'Cyprus', 'Czech Republic', 'Denmark',\n",
              "       'Ecuador', 'Estonia', 'Finland', 'Georgia', 'Germany', 'Greece',\n",
              "       'Grenada', 'Guatemala', 'Hungary', 'Iceland', 'Israel', 'Italy',\n",
              "       'Japan', 'Kazakhstan', 'Kyrgyzstan', 'Latvia', 'Lithuania',\n",
              "       'Luxembourg', 'Malta', 'Mauritius', 'Mexico', 'Netherlands',\n",
              "       'Nicaragua', 'Norway', 'Panama', 'Poland', 'Puerto Rico', 'Qatar',\n",
              "       'Republic of Korea', 'Romania', 'Russian Federation',\n",
              "       'Saint Vincent and Grenadines', 'Serbia', 'Seychelles',\n",
              "       'Singapore', 'Slovenia', 'South Africa', 'Spain', 'Sweden',\n",
              "       'Switzerland', 'Thailand', 'Turkey', 'Turkmenistan', 'Ukraine',\n",
              "       'United Kingdom', 'United States', 'Uruguay'], dtype=object)"
            ]
          },
          "metadata": {},
          "execution_count": 5
        }
      ]
    },
    {
      "cell_type": "markdown",
      "source": [
        "The pie chart:"
      ],
      "metadata": {
        "id": "B5BB6MwGqBTA"
      }
    },
    {
      "cell_type": "code",
      "source": [
        "new = df[df['year'] == 2015]\n",
        "df_sort = new.groupby('country')['suicides_no'].sum().sort_values(ascending= False)\n",
        "df_top = df_sort.head()\n",
        "other = df_sort.sum() - df_top.sum()\n",
        "df_top.loc[\"Others\"] = other\n",
        "df_top\n",
        "df_top.plot.pie(colors=['#F8CB5C','#FA9B1E','#E7556E','#B92CA9','#7414A0','#35C5C7'],explode=[0.1,0,0,0,0,0], shadow=True,autopct='%1.0f%%', ylabel='',title='% of Suicides per Country in 2015', legend=True, labeldistance = None).legend(loc=(1.,0.5))"
      ],
      "metadata": {
        "colab": {
          "base_uri": "https://localhost:8080/",
          "height": 282
        },
        "id": "cgDZfKDym4uI",
        "outputId": "b339da02-dfde-4a68-ddb1-6a70d41bac69"
      },
      "execution_count": null,
      "outputs": [
        {
          "output_type": "execute_result",
          "data": {
            "text/plain": [
              "<matplotlib.legend.Legend at 0x7f746ab80e10>"
            ]
          },
          "metadata": {},
          "execution_count": 2
        },
        {
          "output_type": "display_data",
          "data": {
            "image/png": "[encoded data removed]",
            "text/plain": [
              "<Figure size 432x288 with 1 Axes>"
            ]
          },
          "metadata": {}
        }
      ]
    },
    {
      "cell_type": "markdown",
      "source": [
        "I decided to use a pie chart to display the data as I felt that it would give the clearest representation possible as it allows for the creation of an 'others' category. It also allows me to highlight a point of interest on the chart with the explode function, which I have done so above.\n",
        "\n",
        "We can see that in 2015, the United States had 22% of the worlds suicides, the highest number of suicides out of the 62 countries provided for the 2015 data. The Russian Federation came in second with 12%. The 'Others' category is made up of the remaining countries that were not in the top 5.\n",
        "\n",
        "I am quite surprised to find that both Japan and South Korea made it into the top 5. While I am quite aware that mental health and mental illnesses are still very stigmatized in those countries, I'm still quite surprised. "
      ],
      "metadata": {
        "id": "W4O8dwKntgnx"
      }
    }
  ]
}