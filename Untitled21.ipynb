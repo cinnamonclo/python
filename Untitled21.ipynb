{
  "nbformat": 4,
  "nbformat_minor": 0,
  "metadata": {
    "colab": {
      "provenance": [],
      "authorship_tag": "ABX9TyPw2gqAN8dNTmBqugA5NrNK",
      "include_colab_link": true
    },
    "kernelspec": {
      "name": "python3",
      "display_name": "Python 3"
    },
    "language_info": {
      "name": "python"
    }
  },
  "cells": [
    {
      "cell_type": "markdown",
      "metadata": {
        "id": "view-in-github",
        "colab_type": "text"
      },
      "source": [
        "<a href=\"https://colab.research.google.com/github/cinnamonclo/python/blob/main/Untitled21.ipynb\" target=\"_parent\"><img src=\"https://colab.research.google.com/assets/colab-badge.svg\" alt=\"Open In Colab\"/></a>"
      ]
    },
    {
      "cell_type": "code",
      "execution_count": 1,
      "metadata": {
        "colab": {
          "base_uri": "https://localhost:8080/"
        },
        "id": "JsU0fywFW14s",
        "outputId": "4a55e8e5-b20b-4375-a1b4-d7c2a1244326"
      },
      "outputs": [
        {
          "output_type": "stream",
          "name": "stderr",
          "text": [
            "[nltk_data] Downloading package punkt to /root/nltk_data...\n",
            "[nltk_data]   Unzipping tokenizers/punkt.zip.\n",
            "[nltk_data] Downloading package stopwords to /root/nltk_data...\n",
            "[nltk_data]   Unzipping corpora/stopwords.zip.\n"
          ]
        }
      ],
      "source": [
        "# Installing NLTK Libraries\n",
        "import nltk\n",
        "nltk.download('punkt')\n",
        "from nltk.tokenize import word_tokenize\n",
        "from nltk.corpus import stopwords\n",
        "nltk.download('stopwords')\n",
        "from nltk.stem import PorterStemmer"
      ]
    },
    {
      "cell_type": "code",
      "source": [
        "# Documents\n",
        "document_D1 = \"Macavity's a Mystery Cat: he's called the Hidden Paw—\\\n",
        "For he's the master criminal who can defy the Law.\\\n",
        "He's the bafflement of Scotland Yard, the Flying Squad's despair:\\\n",
        "For when they reach the scene of crime—Macavity's not there!\"\n",
        "\n",
        "document_D2 = \"Macavity, Macavity, there's no one like Macavity,\\\n",
        "He's broken every human law, he breaks the law of gravity.\\\n",
        "His powers of levitation would make a fakir stare,\\\n",
        "And when you reach the scene of crime—Macavity's not there!\\\n",
        "You may seek him in the basement, you may look up in the air—\\\n",
        "But I tell you once and once again, Macavity's not there!\"\n",
        "\n",
        "# Queries\n",
        "VSM_query = \"Cats breaking the law\"\n",
        "boolean_query = \"cat AND breaking AND law\""
      ],
      "metadata": {
        "id": "bXQ1ihrAXVVY"
      },
      "execution_count": 2,
      "outputs": []
    },
    {
      "cell_type": "markdown",
      "source": [
        "Part a) Tokenize the documents, removing whitespace characters and punctuation and case fold to all lowercase.\n"
      ],
      "metadata": {
        "id": "kneUtwvtc8LK"
      }
    },
    {
      "cell_type": "code",
      "source": [
        "# Function to tokenise, remove punctuation, and case fold to lower case\n",
        "def preprocess(document):\n",
        "  # Tokenize\n",
        "  tokens = word_tokenize(document)\n",
        "  tokens = [word.lower() for word in tokens if word.isalpha()]\n",
        "  return tokens"
      ],
      "metadata": {
        "id": "HydyZSxoc-jb"
      },
      "execution_count": 3,
      "outputs": []
    },
    {
      "cell_type": "code",
      "source": [
        "D1_processed = preprocess(document_D1)\n",
        "D2_processed = preprocess(document_D2)\n",
        "VSM_processed = preprocess(VSM_query)"
      ],
      "metadata": {
        "id": "3w9cUqnHXcBS"
      },
      "execution_count": 4,
      "outputs": []
    },
    {
      "cell_type": "code",
      "source": [
        "print(D1_processed)\n",
        "print(D2_processed)\n",
        "print(VSM_processed)"
      ],
      "metadata": {
        "colab": {
          "base_uri": "https://localhost:8080/"
        },
        "id": "jbLn0fuDYusB",
        "outputId": "1ad3ac8f-010b-4b9e-f170-8cbe45420de9"
      },
      "execution_count": 5,
      "outputs": [
        {
          "output_type": "stream",
          "name": "stdout",
          "text": [
            "['macavity', 'a', 'mystery', 'cat', 'he', 'called', 'the', 'hidden', 'he', 'the', 'master', 'criminal', 'who', 'can', 'defy', 'the', 'the', 'bafflement', 'of', 'scotland', 'yard', 'the', 'flying', 'squad', 'despair', 'for', 'when', 'they', 'reach', 'the', 'scene', 'of', 'not', 'there']\n",
            "['macavity', 'macavity', 'there', 'no', 'one', 'like', 'macavity', 'he', 'broken', 'every', 'human', 'law', 'he', 'breaks', 'the', 'law', 'of', 'powers', 'of', 'levitation', 'would', 'make', 'a', 'fakir', 'stare', 'and', 'when', 'you', 'reach', 'the', 'scene', 'of', 'not', 'there', 'you', 'may', 'seek', 'him', 'in', 'the', 'basement', 'you', 'may', 'look', 'up', 'in', 'the', 'i', 'tell', 'you', 'once', 'and', 'once', 'again', 'macavity', 'not', 'there']\n",
            "['cats', 'breaking', 'the', 'law']\n"
          ]
        }
      ]
    },
    {
      "cell_type": "markdown",
      "source": [
        "Part b)  Remove stop words from both the VSM query and documents."
      ],
      "metadata": {
        "id": "n3OOdvUJdWM-"
      }
    },
    {
      "cell_type": "code",
      "source": [
        "# English stopwords\n",
        "stop_words=set(stopwords.words(\"english\"))"
      ],
      "metadata": {
        "id": "3wPMAmffdfRN"
      },
      "execution_count": 6,
      "outputs": []
    },
    {
      "cell_type": "code",
      "source": [
        "# Function to remove stopwords\n",
        "def preprocess_stopwords(document):\n",
        "  stopword_tokens=[word for word in document if word not in stop_words]\n",
        "  return stopword_tokens"
      ],
      "metadata": {
        "id": "yLzJkJPIdlQ_"
      },
      "execution_count": 7,
      "outputs": []
    },
    {
      "cell_type": "code",
      "source": [
        "D1_stopwords = preprocess_stopwords(D1_processed)\n",
        "D2_stopwords = preprocess_stopwords(D2_processed)\n",
        "VSM_stopwords = preprocess_stopwords(VSM_processed)"
      ],
      "metadata": {
        "id": "slCQ9sxJd2na"
      },
      "execution_count": 8,
      "outputs": []
    },
    {
      "cell_type": "code",
      "source": [
        "print(D1_stopwords)\n",
        "print(D2_stopwords)\n",
        "print(VSM_stopwords)"
      ],
      "metadata": {
        "colab": {
          "base_uri": "https://localhost:8080/"
        },
        "id": "xUnFsREbeKzw",
        "outputId": "8b49bd4c-343b-461c-fd3c-40bd5fd33ec9"
      },
      "execution_count": 9,
      "outputs": [
        {
          "output_type": "stream",
          "name": "stdout",
          "text": [
            "['macavity', 'mystery', 'cat', 'called', 'hidden', 'master', 'criminal', 'defy', 'bafflement', 'scotland', 'yard', 'flying', 'squad', 'despair', 'reach', 'scene']\n",
            "['macavity', 'macavity', 'one', 'like', 'macavity', 'broken', 'every', 'human', 'law', 'breaks', 'law', 'powers', 'levitation', 'would', 'make', 'fakir', 'stare', 'reach', 'scene', 'may', 'seek', 'basement', 'may', 'look', 'tell', 'macavity']\n",
            "['cats', 'breaking', 'law']\n"
          ]
        }
      ]
    },
    {
      "cell_type": "markdown",
      "source": [
        "Part c) Stem the documents and the queries using the Porter stemming algorithm."
      ],
      "metadata": {
        "id": "CmbUQUe1foUB"
      }
    },
    {
      "cell_type": "code",
      "source": [
        "# Initialise porter stemmer\n",
        "porter = PorterStemmer()\n",
        "\n",
        "# Function to stem using Porter stemming algorithm\n",
        "def preprocess_stemming(document):\n",
        "  stemmed_tokens = [porter.stem(word) for word in document]\n",
        "  return stemmed_tokens"
      ],
      "metadata": {
        "id": "F3Sd4utIfIvD"
      },
      "execution_count": 10,
      "outputs": []
    },
    {
      "cell_type": "code",
      "source": [
        "D1_stemmed = preprocess_stemming(D1_stopwords)\n",
        "D2_stemmed = preprocess_stemming(D2_stopwords)\n",
        "VSM_stemmed = preprocess_stemming(VSM_stopwords)"
      ],
      "metadata": {
        "id": "V_wDO6X-gJGu"
      },
      "execution_count": 11,
      "outputs": []
    },
    {
      "cell_type": "code",
      "source": [
        "print(D1_stemmed)\n",
        "print(D2_stemmed)\n",
        "print(VSM_stemmed)"
      ],
      "metadata": {
        "colab": {
          "base_uri": "https://localhost:8080/"
        },
        "id": "VqNWay60gSZa",
        "outputId": "4a7332a1-a0ed-4019-864f-443b6ca0ca4f"
      },
      "execution_count": 12,
      "outputs": [
        {
          "output_type": "stream",
          "name": "stdout",
          "text": [
            "['macav', 'mysteri', 'cat', 'call', 'hidden', 'master', 'crimin', 'defi', 'bafflement', 'scotland', 'yard', 'fli', 'squad', 'despair', 'reach', 'scene']\n",
            "['macav', 'macav', 'one', 'like', 'macav', 'broken', 'everi', 'human', 'law', 'break', 'law', 'power', 'levit', 'would', 'make', 'fakir', 'stare', 'reach', 'scene', 'may', 'seek', 'basement', 'may', 'look', 'tell', 'macav']\n",
            "['cat', 'break', 'law']\n"
          ]
        }
      ]
    },
    {
      "cell_type": "markdown",
      "source": [
        "Part d) Construct an inverted index with terms in dictionary order."
      ],
      "metadata": {
        "id": "WHh__wTJho6L"
      }
    },
    {
      "cell_type": "markdown",
      "source": [
        "Inverted indexing help: https://www.geeksforgeeks.org/create-inverted-index-for-file-using-python/"
      ],
      "metadata": {
        "id": "yCUskqddhuRr"
      }
    },
    {
      "cell_type": "code",
      "source": [
        "# Combining Documents\n",
        "terms = list(set(D1_stemmed + D2_stemmed))"
      ],
      "metadata": {
        "id": "FWl2tM5ai600"
      },
      "execution_count": 13,
      "outputs": []
    },
    {
      "cell_type": "code",
      "source": [
        "# Sorting terms alphabetically\n",
        "terms.sort()\n",
        "print(terms)"
      ],
      "metadata": {
        "colab": {
          "base_uri": "https://localhost:8080/"
        },
        "id": "sFcZ4llqlNK_",
        "outputId": "b8e9aa6a-d443-421e-8874-c87324e86c48"
      },
      "execution_count": 14,
      "outputs": [
        {
          "output_type": "stream",
          "name": "stdout",
          "text": [
            "['bafflement', 'basement', 'break', 'broken', 'call', 'cat', 'crimin', 'defi', 'despair', 'everi', 'fakir', 'fli', 'hidden', 'human', 'law', 'levit', 'like', 'look', 'macav', 'make', 'master', 'may', 'mysteri', 'one', 'power', 'reach', 'scene', 'scotland', 'seek', 'squad', 'stare', 'tell', 'would', 'yard']\n"
          ]
        }
      ]
    },
    {
      "cell_type": "code",
      "source": [
        "inverted_index = {}\n",
        "\n",
        "# Creating inverted index\n",
        "for term in terms:\n",
        "  documents = []\n",
        "  if term in D1_stemmed:\n",
        "    documents.append(\"Document 1\")\n",
        "  if term in D2_stemmed:\n",
        "    documents.append(\"Document 2\")\n",
        "  inverted_index[term] = documents"
      ],
      "metadata": {
        "id": "4aB_mbzeh4or"
      },
      "execution_count": 15,
      "outputs": []
    },
    {
      "cell_type": "code",
      "source": [
        "# Printing Inverted Index\n",
        "for term, documents in inverted_index.items():\n",
        "  print(term, \"->\",\", \".join(documents))"
      ],
      "metadata": {
        "colab": {
          "base_uri": "https://localhost:8080/"
        },
        "id": "p25DcndulImH",
        "outputId": "6a1713c9-a8c5-49bc-8cd6-c92bd8008089"
      },
      "execution_count": 16,
      "outputs": [
        {
          "output_type": "stream",
          "name": "stdout",
          "text": [
            "bafflement -> Document 1\n",
            "basement -> Document 2\n",
            "break -> Document 2\n",
            "broken -> Document 2\n",
            "call -> Document 1\n",
            "cat -> Document 1\n",
            "crimin -> Document 1\n",
            "defi -> Document 1\n",
            "despair -> Document 1\n",
            "everi -> Document 2\n",
            "fakir -> Document 2\n",
            "fli -> Document 1\n",
            "hidden -> Document 1\n",
            "human -> Document 2\n",
            "law -> Document 2\n",
            "levit -> Document 2\n",
            "like -> Document 2\n",
            "look -> Document 2\n",
            "macav -> Document 1, Document 2\n",
            "make -> Document 2\n",
            "master -> Document 1\n",
            "may -> Document 2\n",
            "mysteri -> Document 1\n",
            "one -> Document 2\n",
            "power -> Document 2\n",
            "reach -> Document 1, Document 2\n",
            "scene -> Document 1, Document 2\n",
            "scotland -> Document 1\n",
            "seek -> Document 2\n",
            "squad -> Document 1\n",
            "stare -> Document 2\n",
            "tell -> Document 2\n",
            "would -> Document 2\n",
            "yard -> Document 1\n"
          ]
        }
      ]
    },
    {
      "cell_type": "markdown",
      "source": [
        "Part e1) Perform a simple match using the AND operators"
      ],
      "metadata": {
        "id": "dVOKA0QQqTsG"
      }
    },
    {
      "cell_type": "code",
      "source": [],
      "metadata": {
        "id": "99bzL42eqZER"
      },
      "execution_count": 16,
      "outputs": []
    }
  ]
}